{
 "cells": [
  {
   "cell_type": "code",
   "execution_count": 1,
   "id": "1cf353a0-b79b-46c6-b995-56c38fed13fc",
   "metadata": {},
   "outputs": [],
   "source": [
    "import matplotlib.pyplot as plt\n",
    "import pandas as pd\n",
    "\n",
    "# Read the CSV files\n",
    "mpi_strong = pd.read_csv('MPI_strong_scalability.csv')\n",
    "mpi_weak = pd.read_csv('MPI_weak_scalability.csv')\n",
    "omp_strong = pd.read_csv('OMP_strong_scalability.csv')\n",
    "omp_weak = pd.read_csv('OMP_weak_scalability.csv')\n",
    "\n",
    "# Plot MPI Strong Scalability\n",
    "plt.figure(figsize=(10, 6))\n",
    "plt.plot(mpi_strong['np'], mpi_strong['time'], marker='o')\n",
    "plt.title('MPI Strong Scalability')\n",
    "plt.xlabel('Number of Processes')\n",
    "plt.ylabel('Execution Time (ms)')\n",
    "plt.grid(True)\n",
    "plt.savefig('MPI_strong_scalability.png')\n",
    "plt.close()\n",
    "\n",
    "# Plot MPI Weak Scalability\n",
    "plt.figure(figsize=(10, 6))\n",
    "plt.plot(mpi_weak['np'], mpi_weak['time'], marker='o')\n",
    "plt.title('MPI Weak Scalability')\n",
    "plt.xlabel('Number of Processes')\n",
    "plt.ylabel('Execution Time (ms)')\n",
    "plt.grid(True)\n",
    "plt.savefig('MPI_weak_scalability.png')\n",
    "plt.close()\n",
    "\n",
    "# Plot OpenMP Strong Scalability\n",
    "plt.figure(figsize=(10, 6))\n",
    "plt.plot(omp_strong['n_threads'], omp_strong['time'], marker='o')\n",
    "plt.title('OpenMP Strong Scalability')\n",
    "plt.xlabel('Number of Threads')\n",
    "plt.ylabel('Execution Time (ms)')\n",
    "plt.grid(True)\n",
    "plt.savefig('OpenMP_strong_scalability.png')\n",
    "plt.close()\n",
    "\n",
    "# Plot OpenMP Weak Scalability\n",
    "plt.figure(figsize=(10, 6))\n",
    "plt.plot(omp_weak['n_threads'], omp_weak['time'], marker='o')\n",
    "plt.title('OpenMP Weak Scalability')\n",
    "plt.xlabel('Number of Threads')\n",
    "plt.ylabel('Execution Time (ms)')\n",
    "plt.grid(True)\n",
    "plt.savefig('OpenMP_weak_scalability.png')\n",
    "plt.close()\n"
   ]
  },
  {
   "cell_type": "code",
   "execution_count": null,
   "id": "151989bd-0701-4f93-b724-218e5c7138eb",
   "metadata": {},
   "outputs": [],
   "source": []
  }
 ],
 "metadata": {
  "kernelspec": {
   "display_name": "Python 3 (ipykernel)",
   "language": "python",
   "name": "python3"
  },
  "language_info": {
   "codemirror_mode": {
    "name": "ipython",
    "version": 3
   },
   "file_extension": ".py",
   "mimetype": "text/x-python",
   "name": "python",
   "nbconvert_exporter": "python",
   "pygments_lexer": "ipython3",
   "version": "3.12.2"
  }
 },
 "nbformat": 4,
 "nbformat_minor": 5
}
